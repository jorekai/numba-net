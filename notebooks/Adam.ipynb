{
 "cells": [
  {
   "cell_type": "code",
   "execution_count": 200,
   "metadata": {
    "collapsed": true
   },
   "outputs": [],
   "source": [
    "from copy import copy\n",
    "import numpy as np\n",
    "from numba import prange, guvectorize, float32, float64\n",
    "LR = np.float(1e-2)\n",
    "BETA1 = np.float(0.9)\n",
    "BETA2 = np.float(0.999)\n",
    "EPS = np.float(1e-8)\n",
    "DECAY = np.float(0)\n",
    "\n",
    "def adam_py(lr=LR, beta1=BETA1, beta2=BETA2, eps=EPS, weight_decay=DECAY):\n",
    "    def aux_init(param):\n",
    "        return [np.zeros_like(param)]*2\n",
    "    def update_rule(x, y, aux):\n",
    "        x = (1-weight_decay) * x\n",
    "        aux[0] = beta1 * aux[0] + (1-beta1) * y\n",
    "        aux[1] = beta2 * aux[1] + (1-beta2) * (y**2)\n",
    "        x += -lr * aux[0] / (np.sqrt(aux[1]) + eps)\n",
    "        return x, aux\n",
    "    return aux_init, update_rule\n",
    "\n",
    "def adam(x, y, aux, lr, beta1, beta2, eps, decay, out, init):\n",
    "    init[:][:] = aux[:][:]\n",
    "    for i in prange(aux.shape[1]):\n",
    "        init[0][i] = beta1 * aux[0][i] + (1-beta1) * y[i]\n",
    "    for j in prange(aux.shape[1]):\n",
    "        init[1][j] = beta2 * aux[1][j] + (1-beta2) * y[j] ** 2\n",
    "    out[:] = (1-decay) * x[:]\n",
    "    out[:] = out[:] + (-lr * init[0] / (np.sqrt(init[1]) + eps))\n",
    "\n",
    "def gu_adam(func, *args, **kwargs):\n",
    "    kwargs_ = {k: v for k, v in kwargs.items() if v is not None}\n",
    "    return guvectorize([(float32[:], float32[:], float32[:,:], float32, float32, float32, float32, float32, float32[:], float32[:,:]),\n",
    "                      (float64[:], float64[:], float64[:,:], float64, float64, float64, float64, float64, float64[:], float64[:,:])],\n",
    "                     '(n),(n),(m,n),(),(),(),(),()->(n),(m,n)', nopython=True, fastmath=True, *args, **kwargs_)(func)"
   ]
  },
  {
   "cell_type": "code",
   "execution_count": 201,
   "outputs": [],
   "source": [
    "# Defining input values\n",
    "X = np.arange(0, 10, dtype=np.float32)\n",
    "Y = np.ones_like(X, dtype=np.float32)\n",
    "AUX = np.array([np.zeros_like(X, dtype=np.float32)]* 2)\n",
    "X_ = copy(X)\n",
    "Y_ = copy(Y)\n",
    "AUX_ = copy(AUX)"
   ],
   "metadata": {
    "collapsed": false,
    "pycharm": {
     "name": "#%%\n"
    }
   }
  },
  {
   "cell_type": "code",
   "execution_count": 202,
   "outputs": [
    {
     "name": "stdout",
     "output_type": "stream",
     "text": [
      "Calculating Python method\n"
     ]
    },
    {
     "data": {
      "text/plain": "(array([-0.03162276,  0.96837723,  1.9683772 ,  2.9683774 ,  3.9683774 ,\n         4.968377  ,  5.968377  ,  6.968377  ,  7.968377  ,  8.968377  ],\n       dtype=float32),\n array([[0.1  , 0.1  , 0.1  , 0.1  , 0.1  , 0.1  , 0.1  , 0.1  , 0.1  ,\n         0.1  ],\n        [0.001, 0.001, 0.001, 0.001, 0.001, 0.001, 0.001, 0.001, 0.001,\n         0.001]], dtype=float32))"
     },
     "execution_count": 202,
     "metadata": {},
     "output_type": "execute_result"
    }
   ],
   "source": [
    "print(\"Calculating Python method\")\n",
    "aux_init, update = adam_py()\n",
    "pyaux, pyup = update(X, Y, AUX)\n",
    "pyaux, pyup"
   ],
   "metadata": {
    "collapsed": false,
    "pycharm": {
     "name": "#%%\n"
    }
   }
  },
  {
   "cell_type": "code",
   "execution_count": 203,
   "outputs": [
    {
     "name": "stdout",
     "output_type": "stream",
     "text": [
      "Calculating Python method with numba\n"
     ]
    },
    {
     "data": {
      "text/plain": "(array([-0.03162297,  0.96837705,  1.968377  ,  2.968377  ,  3.968377  ,\n         4.968377  ,  5.968377  ,  6.968377  ,  7.968377  ,  8.968377  ],\n       dtype=float32),\n array([[0.10000002, 0.10000002, 0.10000002, 0.10000002, 0.10000002,\n         0.10000002, 0.10000002, 0.10000002, 0.10000002, 0.10000002],\n        [0.00099999, 0.00099999, 0.00099999, 0.00099999, 0.00099999,\n         0.00099999, 0.00099999, 0.00099999, 0.00099999, 0.00099999]],\n       dtype=float32))"
     },
     "execution_count": 203,
     "metadata": {},
     "output_type": "execute_result"
    }
   ],
   "source": [
    "print(\"Calculating Python method with numba\")\n",
    "s_adam = gu_adam(adam)\n",
    "p_adam = gu_adam(adam, target='parallel')\n",
    "aux, up = s_adam(X_, Y_, AUX_, LR, BETA1, BETA2, EPS, DECAY)\n",
    "aux, up"
   ],
   "metadata": {
    "collapsed": false,
    "pycharm": {
     "name": "#%%\n"
    }
   }
  },
  {
   "cell_type": "code",
   "execution_count": 204,
   "outputs": [
    {
     "ename": "AssertionError",
     "evalue": "\nNot equal to tolerance rtol=1e-07, atol=0\n\nMismatched elements: 3 / 10 (30%)\nMax absolute difference: 2.3841858e-07\nMax relative difference: 6.597028e-06\n x: array([-0.031623,  0.968377,  1.968377,  2.968377,  3.968377,  4.968377,\n        5.968377,  6.968377,  7.968377,  8.968377], dtype=float32)\n y: array([-0.031623,  0.968377,  1.968377,  2.968377,  3.968377,  4.968377,\n        5.968377,  6.968377,  7.968377,  8.968377], dtype=float32)",
     "output_type": "error",
     "traceback": [
      "\u001B[1;31m---------------------------------------------------------------------------\u001B[0m",
      "\u001B[1;31mAssertionError\u001B[0m                            Traceback (most recent call last)",
      "\u001B[1;32m<ipython-input-204-33110c3f537c>\u001B[0m in \u001B[0;36m<module>\u001B[1;34m\u001B[0m\n\u001B[0;32m      1\u001B[0m \u001B[1;31m# Test equality of auxilliary vectors\u001B[0m\u001B[1;33m\u001B[0m\u001B[1;33m\u001B[0m\u001B[1;33m\u001B[0m\u001B[0m\n\u001B[1;32m----> 2\u001B[1;33m \u001B[0mnp\u001B[0m\u001B[1;33m.\u001B[0m\u001B[0mtesting\u001B[0m\u001B[1;33m.\u001B[0m\u001B[0massert_allclose\u001B[0m\u001B[1;33m(\u001B[0m\u001B[0maux\u001B[0m\u001B[1;33m,\u001B[0m \u001B[0mpyaux\u001B[0m\u001B[1;33m)\u001B[0m\u001B[1;33m\u001B[0m\u001B[1;33m\u001B[0m\u001B[0m\n\u001B[0m\u001B[0;32m      3\u001B[0m \u001B[1;33m\u001B[0m\u001B[0m\n",
      "    \u001B[1;31m[... skipping hidden 1 frame]\u001B[0m\n",
      "\u001B[1;32m~\\Anaconda3\\envs\\cytorch\\lib\\site-packages\\numpy\\testing\\_private\\utils.py\u001B[0m in \u001B[0;36massert_array_compare\u001B[1;34m(comparison, x, y, err_msg, verbose, header, precision, equal_nan, equal_inf)\u001B[0m\n\u001B[0;32m    838\u001B[0m                                 \u001B[0mverbose\u001B[0m\u001B[1;33m=\u001B[0m\u001B[0mverbose\u001B[0m\u001B[1;33m,\u001B[0m \u001B[0mheader\u001B[0m\u001B[1;33m=\u001B[0m\u001B[0mheader\u001B[0m\u001B[1;33m,\u001B[0m\u001B[1;33m\u001B[0m\u001B[1;33m\u001B[0m\u001B[0m\n\u001B[0;32m    839\u001B[0m                                 names=('x', 'y'), precision=precision)\n\u001B[1;32m--> 840\u001B[1;33m             \u001B[1;32mraise\u001B[0m \u001B[0mAssertionError\u001B[0m\u001B[1;33m(\u001B[0m\u001B[0mmsg\u001B[0m\u001B[1;33m)\u001B[0m\u001B[1;33m\u001B[0m\u001B[1;33m\u001B[0m\u001B[0m\n\u001B[0m\u001B[0;32m    841\u001B[0m     \u001B[1;32mexcept\u001B[0m \u001B[0mValueError\u001B[0m\u001B[1;33m:\u001B[0m\u001B[1;33m\u001B[0m\u001B[1;33m\u001B[0m\u001B[0m\n\u001B[0;32m    842\u001B[0m         \u001B[1;32mimport\u001B[0m \u001B[0mtraceback\u001B[0m\u001B[1;33m\u001B[0m\u001B[1;33m\u001B[0m\u001B[0m\n",
      "\u001B[1;31mAssertionError\u001B[0m: \nNot equal to tolerance rtol=1e-07, atol=0\n\nMismatched elements: 3 / 10 (30%)\nMax absolute difference: 2.3841858e-07\nMax relative difference: 6.597028e-06\n x: array([-0.031623,  0.968377,  1.968377,  2.968377,  3.968377,  4.968377,\n        5.968377,  6.968377,  7.968377,  8.968377], dtype=float32)\n y: array([-0.031623,  0.968377,  1.968377,  2.968377,  3.968377,  4.968377,\n        5.968377,  6.968377,  7.968377,  8.968377], dtype=float32)"
     ]
    }
   ],
   "source": [
    "# Test equality of auxilliary vectors\n",
    "np.testing.assert_allclose(aux, pyaux)"
   ],
   "metadata": {
    "collapsed": false,
    "pycharm": {
     "name": "#%%\n"
    }
   }
  },
  {
   "cell_type": "code",
   "execution_count": null,
   "outputs": [],
   "source": [
    "# Test equality of update vector\n",
    "np.testing.assert_allclose(up, pyup)"
   ],
   "metadata": {
    "collapsed": false,
    "pycharm": {
     "name": "#%%\n"
    }
   }
  }
 ],
 "metadata": {
  "kernelspec": {
   "name": "pycharm-396cc10a",
   "language": "python",
   "display_name": "PyCharm (cytorch)"
  },
  "language_info": {
   "codemirror_mode": {
    "name": "ipython",
    "version": 2
   },
   "file_extension": ".py",
   "mimetype": "text/x-python",
   "name": "python",
   "nbconvert_exporter": "python",
   "pygments_lexer": "ipython2",
   "version": "2.7.6"
  }
 },
 "nbformat": 4,
 "nbformat_minor": 0
}