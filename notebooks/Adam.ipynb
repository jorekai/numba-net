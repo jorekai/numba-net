{
 "cells": [
  {
   "cell_type": "code",
   "execution_count": 19,
   "metadata": {
    "collapsed": true
   },
   "outputs": [],
   "source": [
    "from copy import copy\n",
    "import numpy as np\n",
    "from numba import prange, guvectorize, float32, float64\n",
    "LR = np.float32(1e-2)\n",
    "BETA1 = np.float32(0.9)\n",
    "BETA2 = np.float32(0.999)\n",
    "EPS = np.float32(1e-8)\n",
    "DECAY = np.float32(0)\n",
    "\n",
    "def adam_py(lr=LR, beta1=BETA1, beta2=BETA2, eps=EPS, weight_decay=DECAY):\n",
    "    def aux_init(param):\n",
    "        return [np.zeros_like(param)]*2\n",
    "    def update_rule(x, y, aux):\n",
    "        x = (1-weight_decay) * x\n",
    "        aux[0] = beta1 * aux[0] + (1-beta1) * y\n",
    "        aux[1] = beta2 * aux[1] + (1-beta2) * (y**2)\n",
    "        x += -lr * aux[0] / (np.sqrt(aux[1]) + eps)\n",
    "        return np.float32(x), np.float32(aux)\n",
    "    return aux_init, update_rule\n",
    "\n",
    "def adam(x, y, aux, lr, beta1, beta2, eps, decay, out, init):\n",
    "    init[:][:] = aux[:][:]\n",
    "    for i in prange(aux.shape[1]):\n",
    "        init[0][i] = beta1 * aux[0][i] + (1-beta1) * y[i]\n",
    "    for j in prange(aux.shape[1]):\n",
    "        init[1][j] = beta2 * aux[1][j] + (1-beta2) * y[j] ** 2\n",
    "    out[:] = (1-decay) * x[:]\n",
    "    out[:] = out[:] + (-lr * init[0] / (np.sqrt(init[1]) + eps))\n",
    "\n",
    "def gu_adam(func, *args, **kwargs):\n",
    "    kwargs_ = {k: v for k, v in kwargs.items() if v is not None}\n",
    "    return guvectorize([(float32[:], float32[:], float32[:,:], float32, float32, float32, float32, float32, float32[:], float32[:,:]),\n",
    "                      (float64[:], float64[:], float64[:,:], float64, float64, float64, float64, float64, float64[:], float64[:,:])],\n",
    "                     '(n),(n),(m,n),(),(),(),(),()->(n),(m,n)', nopython=True, fastmath=True, *args, **kwargs_)(func)"
   ]
  },
  {
   "cell_type": "code",
   "execution_count": 20,
   "outputs": [],
   "source": [
    "# Defining input values\n",
    "X = np.arange(0, 10, dtype=np.float32)\n",
    "Y = np.ones_like(X, dtype=np.float32)\n",
    "AUX = np.array([np.zeros_like(X, dtype=np.float32)]* 2, dtype=np.float32)\n",
    "X_ = copy(X)\n",
    "Y_ = copy(Y)\n",
    "AUX_ = copy(AUX)"
   ],
   "metadata": {
    "collapsed": false,
    "pycharm": {
     "name": "#%%\n"
    }
   }
  },
  {
   "cell_type": "code",
   "execution_count": 21,
   "outputs": [
    {
     "name": "stdout",
     "output_type": "stream",
     "text": [
      "Calculating Python method\n"
     ]
    },
    {
     "data": {
      "text/plain": "(array([-0.03162297,  0.96837705,  1.968377  ,  2.968377  ,  3.968377  ,\n         4.968377  ,  5.968377  ,  6.968377  ,  7.968377  ,  8.968377  ],\n       dtype=float32),\n array([[0.10000002, 0.10000002, 0.10000002, 0.10000002, 0.10000002,\n         0.10000002, 0.10000002, 0.10000002, 0.10000002, 0.10000002],\n        [0.00099999, 0.00099999, 0.00099999, 0.00099999, 0.00099999,\n         0.00099999, 0.00099999, 0.00099999, 0.00099999, 0.00099999]],\n       dtype=float32))"
     },
     "execution_count": 21,
     "metadata": {},
     "output_type": "execute_result"
    }
   ],
   "source": [
    "print(\"Calculating Python method\")\n",
    "aux_init, update = adam_py()\n",
    "pyaux, pyup = update(X, Y, AUX)\n",
    "pyaux, pyup"
   ],
   "metadata": {
    "collapsed": false,
    "pycharm": {
     "name": "#%%\n"
    }
   }
  },
  {
   "cell_type": "code",
   "execution_count": 22,
   "outputs": [
    {
     "name": "stdout",
     "output_type": "stream",
     "text": [
      "Calculating Python method with numba\n"
     ]
    },
    {
     "data": {
      "text/plain": "(array([-0.03162297,  0.96837705,  1.968377  ,  2.968377  ,  3.968377  ,\n         4.968377  ,  5.968377  ,  6.968377  ,  7.968377  ,  8.968377  ],\n       dtype=float32),\n array([[0.10000002, 0.10000002, 0.10000002, 0.10000002, 0.10000002,\n         0.10000002, 0.10000002, 0.10000002, 0.10000002, 0.10000002],\n        [0.00099999, 0.00099999, 0.00099999, 0.00099999, 0.00099999,\n         0.00099999, 0.00099999, 0.00099999, 0.00099999, 0.00099999]],\n       dtype=float32))"
     },
     "execution_count": 22,
     "metadata": {},
     "output_type": "execute_result"
    }
   ],
   "source": [
    "print(\"Calculating Python method with numba\")\n",
    "s_adam = gu_adam(adam)\n",
    "p_adam = gu_adam(adam, target='parallel')\n",
    "aux, up = s_adam(X_, Y_, AUX_, LR, BETA1, BETA2, EPS, DECAY)\n",
    "aux, up"
   ],
   "metadata": {
    "collapsed": false,
    "pycharm": {
     "name": "#%%\n"
    }
   }
  },
  {
   "cell_type": "code",
   "execution_count": 23,
   "outputs": [],
   "source": [
    "# Test equality of auxilliary vectors\n",
    "np.testing.assert_allclose(aux, pyaux)"
   ],
   "metadata": {
    "collapsed": false,
    "pycharm": {
     "name": "#%%\n"
    }
   }
  },
  {
   "cell_type": "code",
   "execution_count": 24,
   "outputs": [],
   "source": [
    "# Test equality of update vector\n",
    "np.testing.assert_allclose(up, pyup)"
   ],
   "metadata": {
    "collapsed": false,
    "pycharm": {
     "name": "#%%\n"
    }
   }
  }
 ],
 "metadata": {
  "kernelspec": {
   "name": "pycharm-396cc10a",
   "language": "python",
   "display_name": "PyCharm (cytorch)"
  },
  "language_info": {
   "codemirror_mode": {
    "name": "ipython",
    "version": 2
   },
   "file_extension": ".py",
   "mimetype": "text/x-python",
   "name": "python",
   "nbconvert_exporter": "python",
   "pygments_lexer": "ipython2",
   "version": "2.7.6"
  }
 },
 "nbformat": 4,
 "nbformat_minor": 0
}