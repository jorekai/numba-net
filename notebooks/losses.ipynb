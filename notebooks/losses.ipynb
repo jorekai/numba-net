{
 "cells": [
  {
   "cell_type": "code",
   "execution_count": 1,
   "metadata": {
    "collapsed": true
   },
   "outputs": [],
   "source": [
    "import time\n",
    "import numba\n",
    "import numpy as np\n",
    "from numba import guvectorize\n",
    "from numba import guvectorize, float32, float64"
   ]
  },
  {
   "cell_type": "code",
   "execution_count": 2,
   "outputs": [],
   "source": [
    "# The target keyword decorator for loss and error return\n",
    "\n",
    "def gu_loss(func, *args, **kwargs):\n",
    "    \"\"\"\n",
    "    The guvectorize decorated method, runs in nopython mode\n",
    "    :param func: a loss error method\n",
    "    :param target: choose between | 1: None -> serial | 2: 'parallel' -> parallel | execution method\n",
    "    :return: the decorated loss, error function\n",
    "    \"\"\"\n",
    "    kwargs_ = {k: v for k, v in kwargs.items() if v is not None}\n",
    "    return guvectorize([(float32[:], float32[:], float32[:], float32[:]),\n",
    "                      (float64[:], float64[:], float64[:], float64[:])],\n",
    "                     '(n),(n)->(),(n)', nopython=True, *args, **kwargs_)(func)"
   ],
   "metadata": {
    "collapsed": false,
    "pycharm": {
     "name": "#%%\n"
    }
   }
  },
  {
   "cell_type": "code",
   "execution_count": 3,
   "outputs": [],
   "source": [
    "def mse(x, y, loss, derivation):\n",
    "    for i in range(y.shape[0]):\n",
    "        derivation[i] = y[i] - x[i]\n",
    "    loss[0] = 0.5 * np.sum(derivation[:]**2)\n",
    "\n",
    "def cross_entropy(x, y, loss, derivation):\n",
    "    l = np.log(y[:])\n",
    "    for i in range(y.shape[0]):\n",
    "        derivation[i] = -(x[i]/y[i])\n",
    "    loss[0] = -np.sum(x[:] * l)\n",
    "\n",
    "def mse_py(yd, yp):\n",
    "    e = yp - yd\n",
    "    loss = 0.5 * np.sum(e**2)\n",
    "    return loss, e\n",
    "\n",
    "def xentropy(yd, yp):\n",
    "    l = np.log(yp)\n",
    "    loss = -np.sum(yd * l)\n",
    "    deriv = -(yd/yp)\n",
    "    return loss, deriv"
   ],
   "metadata": {
    "collapsed": false,
    "pycharm": {
     "name": "#%%\n"
    }
   }
  },
  {
   "cell_type": "code",
   "execution_count": 4,
   "outputs": [
    {
     "data": {
      "text/plain": "(array([0., 1., 2., 3., 4.], dtype=float32),\n array([10., 11., 12., 13., 14.], dtype=float32))"
     },
     "execution_count": 4,
     "metadata": {},
     "output_type": "execute_result"
    }
   ],
   "source": [
    "a = np.arange(5, dtype=np.float32)\n",
    "b = np.arange(10, 15, dtype=np.float32)\n",
    "\n",
    "a, b"
   ],
   "metadata": {
    "collapsed": false,
    "pycharm": {
     "name": "#%%\n"
    }
   }
  },
  {
   "cell_type": "code",
   "execution_count": 5,
   "outputs": [],
   "source": [
    "s_mse = gu_loss(mse)\n",
    "p_mse = gu_loss(mse, target=\"parallel\")\n",
    "s_ce = gu_loss(cross_entropy)\n",
    "p_ce = gu_loss(cross_entropy, target=\"parallel\")\n"
   ],
   "metadata": {
    "collapsed": false,
    "pycharm": {
     "name": "#%%\n"
    }
   }
  },
  {
   "cell_type": "code",
   "execution_count": 6,
   "outputs": [],
   "source": [
    "def ntime(func1):\n",
    "    start = time.time()\n",
    "    func1(a, b)\n",
    "    end = time.time()\n",
    "    print(\"Elapsed Numba Pre = %s\" % (end - start))\n",
    "    start = time.time()\n",
    "    f2 = func1(a, b)\n",
    "    end = time.time()\n",
    "    print(\"Elapsed Numba Post = %s\" % (end - start))\n",
    "    return f2\n",
    "\n",
    "def ptime(func1):\n",
    "    start = time.time()\n",
    "    f1 = func1(a, b)\n",
    "    end = time.time()\n",
    "    print(\"Elapsed PyTime = %s\" % (end - start))\n",
    "    return f1"
   ],
   "metadata": {
    "collapsed": false,
    "pycharm": {
     "name": "#%%\n"
    }
   }
  },
  {
   "cell_type": "code",
   "execution_count": 7,
   "outputs": [
    {
     "name": "stdout",
     "output_type": "stream",
     "text": [
      "MSE\n",
      "Elapsed Numba Pre = 2.9087066650390625e-05\n",
      "Elapsed Numba Post = 9.775161743164062e-06\n",
      "Elapsed PyTime = 8.296966552734375e-05\n"
     ]
    },
    {
     "data": {
      "text/plain": "((250.0, array([10., 10., 10., 10., 10.], dtype=float32)),\n (250.0, array([10., 10., 10., 10., 10.], dtype=float32)))"
     },
     "execution_count": 7,
     "metadata": {},
     "output_type": "execute_result"
    }
   ],
   "source": [
    "print(\"MSE\")\n",
    "mse1 = ntime(s_mse)\n",
    "mse2 = ptime(mse_py)\n",
    "mse1, mse2\n",
    "\n"
   ],
   "metadata": {
    "collapsed": false,
    "pycharm": {
     "name": "#%%\n"
    }
   }
  },
  {
   "cell_type": "code",
   "execution_count": 8,
   "outputs": [
    {
     "name": "stdout",
     "output_type": "stream",
     "text": [
      "CE\n",
      "Elapsed Numba Pre = 3.790855407714844e-05\n",
      "Elapsed Numba Post = 1.049041748046875e-05\n",
      "Elapsed PyTime = 7.605552673339844e-05\n"
     ]
    },
    {
     "data": {
      "text/plain": "((-25.618786,\n  array([-0.        , -0.09090909, -0.16666667, -0.23076923, -0.2857143 ],\n        dtype=float32)),\n (-25.618786,\n  array([-0.        , -0.09090909, -0.16666667, -0.23076923, -0.2857143 ],\n        dtype=float32)))"
     },
     "execution_count": 8,
     "metadata": {},
     "output_type": "execute_result"
    }
   ],
   "source": [
    "print(\"CE\")\n",
    "ce1 = ntime(s_ce)\n",
    "ce2 = ptime(xentropy)\n",
    "ce1, ce2"
   ],
   "metadata": {
    "collapsed": false,
    "pycharm": {
     "name": "#%%\n"
    }
   }
  },
  {
   "cell_type": "code",
   "execution_count": 8,
   "outputs": [],
   "source": [],
   "metadata": {
    "collapsed": false,
    "pycharm": {
     "name": "#%%\n"
    }
   }
  }
 ],
 "metadata": {
  "kernelspec": {
   "name": "python3",
   "language": "python",
   "display_name": "Python 3"
  },
  "language_info": {
   "codemirror_mode": {
    "name": "ipython",
    "version": 2
   },
   "file_extension": ".py",
   "mimetype": "text/x-python",
   "name": "python",
   "nbconvert_exporter": "python",
   "pygments_lexer": "ipython2",
   "version": "2.7.6"
  }
 },
 "nbformat": 4,
 "nbformat_minor": 0
}