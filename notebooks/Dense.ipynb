{
 "cells": [
  {
   "cell_type": "code",
   "execution_count": 13,
   "metadata": {
    "collapsed": true
   },
   "outputs": [],
   "source": [
    "import time\n",
    "\n",
    "import numpy as np\n",
    "from numba import njit, guvectorize, float32, float64, prange\n",
    "\n",
    "from optimizers import s_sgd\n",
    "\n",
    "class Dense:\n",
    "\n",
    "    def __init__(self, input_dim, output_dim, batch_size=256, optimizer=s_sgd):\n",
    "        self.input_dim = input_dim\n",
    "        self.output_dim = output_dim\n",
    "        self.batch_size = batch_size\n",
    "        self.optimizer = optimizer\n",
    "\n",
    "        # layer params\n",
    "        self.var = np.sqrt(2.0/(self.input_dim + self.output_dim))\n",
    "        self.W = np.random.normal(0, self.var, (self.input_dim, self.output_dim))\n",
    "        self.b = np.abs(np.random.normal(0, self.var, (self.output_dim)))\n",
    "\n",
    "        # init params\n",
    "        self.x = np.zeros((batch_size, self.input_dim))\n",
    "        self.auxW = np.zeros_like(self.W)\n",
    "        self.auxb = np.zeros_like(self.b)\n",
    "\n",
    "        # parameter derivatives\n",
    "        self.de_dW = np.zeros_like(self.W)\n",
    "        self.de_db = np.zeros_like(self.b)\n",
    "\n",
    "    def forward(self, x):\n",
    "        self.x = x\n",
    "        return self.predict(x)\n",
    "\n",
    "    def backward(self, de_dy):\n",
    "        self.de_dW, self.de_db, de_dY = numba_backward(self.x.T, W, de_dy, self.batch_size)\n",
    "        return de_dY\n",
    "\n",
    "    def predict(self, x):\n",
    "        return numba_predict(x, self.W, self.b)\n",
    "\n",
    "    def update(self):\n",
    "        self.W, self.aW = self.optimizer(self.W, self.de_dW, self.aW)\n",
    "        self.b, self.ab = self.optimizer(self.b, self.de_db, self.ab)"
   ]
  },
  {
   "cell_type": "code",
   "execution_count": 14,
   "outputs": [],
   "source": [
    "pydense = Dense(2, 2)"
   ],
   "metadata": {
    "collapsed": false,
    "pycharm": {
     "name": "#%%\n"
    }
   }
  },
  {
   "cell_type": "code",
   "execution_count": 15,
   "outputs": [
    {
     "data": {
      "text/plain": "<__main__.Dense at 0x21060b10820>"
     },
     "execution_count": 15,
     "metadata": {},
     "output_type": "execute_result"
    }
   ],
   "source": [
    "pydense"
   ],
   "metadata": {
    "collapsed": false,
    "pycharm": {
     "name": "#%%\n"
    }
   }
  },
  {
   "cell_type": "code",
   "execution_count": 16,
   "outputs": [],
   "source": [
    "def backward(x, W, de_dy, batch_size=24):\n",
    "    de_dW = (x.T @ de_dy) / batch_size\n",
    "    de_db = de_dy.mean(axis=0)\n",
    "    return de_dW, de_db, de_dy @ W.T\n",
    "\n",
    "x = np.random.normal(0, 1, (2, 2))\n",
    "W = np.random.normal(0, 1, (2, 2))\n",
    "b = np.random.normal(0, 1, (2, 2))\n",
    "de_dy = np.random.normal(0, 1, (2, 2))\n",
    "\n",
    "# backward(x, W, de_dy)"
   ],
   "metadata": {
    "collapsed": false,
    "pycharm": {
     "name": "#%%\n"
    }
   }
  },
  {
   "cell_type": "code",
   "execution_count": 17,
   "outputs": [],
   "source": [
    "@njit(fastmath=True)\n",
    "def matmul(a, b):\n",
    "    return a @ b\n",
    "\n",
    "def numba_backward(x, W, de_dy, batch_size=24):\n",
    "    de_dW = matmul(x.T,de_dy) / batch_size\n",
    "    de_db = np.mean(de_dy, axis=0)\n",
    "    return de_dW, de_db, matmul(de_dy, W.T)\n",
    "\n",
    "@njit(fastmath=True)\n",
    "def numba_predict(x, W, b):\n",
    "    return matmul(x, W) + b\n",
    "\n",
    "def predict(x, W, b):\n",
    "    return x @ W + b"
   ],
   "metadata": {
    "collapsed": false,
    "pycharm": {
     "name": "#%%\n"
    }
   }
  },
  {
   "cell_type": "code",
   "execution_count": 18,
   "outputs": [],
   "source": [
    "def ntime():\n",
    "    start = time.time()\n",
    "    numba_predict(x, W, b)\n",
    "    end = time.time()\n",
    "    print(\"Elapsed Numba Pre = %s\" % (end - start))\n",
    "    start = time.time()\n",
    "    f2 = numba_predict(x, W, b)\n",
    "    end = time.time()\n",
    "    print(\"Elapsed Numba Post = %s\" % (end - start))\n",
    "    return f2\n",
    "\n",
    "def ptime():\n",
    "    start = time.time()\n",
    "    f1 = predict(x, W, b)\n",
    "    end = time.time()\n",
    "    print(\"Elapsed PyTime = %s\" % (end - start))\n",
    "    return f1"
   ],
   "metadata": {
    "collapsed": false,
    "pycharm": {
     "name": "#%%\n"
    }
   }
  },
  {
   "cell_type": "code",
   "execution_count": 19,
   "outputs": [
    {
     "name": "stdout",
     "output_type": "stream",
     "text": [
      "Elapsed Numba Pre = 0.23038411140441895\n",
      "Elapsed Numba Post = 0.0\n"
     ]
    }
   ],
   "source": [
    "prednumba = ntime()"
   ],
   "metadata": {
    "collapsed": false,
    "pycharm": {
     "name": "#%%\n"
    }
   }
  },
  {
   "cell_type": "code",
   "execution_count": 20,
   "outputs": [
    {
     "name": "stdout",
     "output_type": "stream",
     "text": [
      "Elapsed PyTime = 0.0\n"
     ]
    }
   ],
   "source": [
    "pred = ptime()"
   ],
   "metadata": {
    "collapsed": false,
    "pycharm": {
     "name": "#%%\n"
    }
   }
  },
  {
   "cell_type": "code",
   "execution_count": 21,
   "outputs": [],
   "source": [
    "np.testing.assert_allclose(pred, prednumba)"
   ],
   "metadata": {
    "collapsed": false,
    "pycharm": {
     "name": "#%%\n"
    }
   }
  },
  {
   "cell_type": "code",
   "execution_count": 22,
   "outputs": [],
   "source": [
    "def sgdpy():\n",
    "    lr=1e-4\n",
    "    mu=0.9\n",
    "    weight_decay=0\n",
    "    def aux_init(param):\n",
    "        return np.zeros_like(param)\n",
    "    def update_rule(x, dx, aux):\n",
    "        x = (1-weight_decay) * x\n",
    "        aux = mu * aux - lr * dx\n",
    "        x = np.add(x, aux)\n",
    "        return x, aux\n",
    "    return aux_init, update_rule\n",
    "\n",
    "def sgd(x, y, aux, lr, mu, decay, out, init):\n",
    "    init[:] = aux[:]\n",
    "    for i in prange(x.shape[0]):\n",
    "        out[i] = (1-decay) * x[i]\n",
    "        init[i] = mu * init[i] - lr * y[i]\n",
    "        out[i] = np.add(out[i], init[i])\n",
    "\n",
    "def gu_optimizer(func, *args, **kwargs):\n",
    "    \"\"\"\n",
    "    The guvectorize decorated method, runs in nopython mode\n",
    "    :param func: a loss error method\n",
    "    :param target: choose between | 1: None -> serial | 2: 'parallel' -> parallel | execution method\n",
    "    :return: the decorated loss, error function\n",
    "    \"\"\"\n",
    "    kwargs_ = {k: v for k, v in kwargs.items() if v is not None}\n",
    "    return guvectorize([(float32[:], float32[:], float32[:], float32, float32, float32, float32[:], float32[:]),\n",
    "                      (float64[:], float64[:], float64[:], float64, float64, float64, float64[:], float64[:])],\n",
    "                     '(n),(n),(m),(),(),()->(n),(n)', nopython=True, fastmath=True, *args, **kwargs_)(func)\n",
    "\n",
    "s_sgd = gu_optimizer(sgd)\n",
    "p_sgd = gu_optimizer(sgd, target='parallel')\n",
    "\n",
    "## UPDATE\n",
    "def update(W, de_dW, aW, b, de_db, ab):\n",
    "    W, auxW = s_sgd(W, de_dW, aW, 1e-4, 0.9, 0)\n",
    "    b, auxb = s_sgd(b, de_db, ab, 1e-4, 0.9, 0)\n",
    "    return W,auxW, b, auxb"
   ],
   "metadata": {
    "collapsed": false,
    "pycharm": {
     "name": "#%%\n"
    }
   }
  },
  {
   "cell_type": "code",
   "execution_count": 23,
   "outputs": [
    {
     "data": {
      "text/plain": "(array([-1.0000000e+03, -9.9900006e+02, -9.9800018e+02, ...,\n         9.9979970e+06,  9.9979980e+06,  9.9979990e+06], dtype=float32),\n array([-1000.     , -1000.00006, -1000.0002 , ..., -1999.9995 ,\n        -1999.9998 , -2000.     ], dtype=float32),\n array([-1.0000000e+03, -9.9900006e+02, -9.9800018e+02, ...,\n         9.9979970e+06,  9.9979980e+06,  9.9979990e+06], dtype=float32),\n array([-1000.     , -1000.00006, -1000.0002 , ..., -1999.9995 ,\n        -1999.9998 , -2000.     ], dtype=float32))"
     },
     "execution_count": 23,
     "metadata": {},
     "output_type": "execute_result"
    }
   ],
   "source": [
    "bigx = np.arange(0, 10000000, dtype=np.float32)\n",
    "bigy = np.arange(10000000, 20000000, dtype=np.float32)\n",
    "init = np.zeros_like(bigx)\n",
    "\n",
    "update(bigx, bigy, init,bigx, bigy, init)"
   ],
   "metadata": {
    "collapsed": false,
    "pycharm": {
     "name": "#%%\n"
    }
   }
  },
  {
   "cell_type": "code",
   "execution_count": 24,
   "outputs": [
    {
     "data": {
      "text/plain": "(array([-1.0000000e+03, -9.9900006e+02, -9.9800018e+02, ...,\n         9.9979970e+06,  9.9979980e+06,  9.9979990e+06], dtype=float32),\n array([-1000.     , -1000.00006, -1000.0002 , ..., -1999.9995 ,\n        -1999.9998 , -2000.     ], dtype=float32),\n array([-1.0000000e+03, -9.9900006e+02, -9.9800018e+02, ...,\n         9.9979970e+06,  9.9979980e+06,  9.9979990e+06], dtype=float32),\n array([-1000.     , -1000.00006, -1000.0002 , ..., -1999.9995 ,\n        -1999.9998 , -2000.     ], dtype=float32))"
     },
     "execution_count": 24,
     "metadata": {},
     "output_type": "execute_result"
    }
   ],
   "source": [
    "_, update_rule = sgdpy()\n",
    "def update_py(W, de_dW, aW, b, de_db, ab):\n",
    "    W, auxW = update_rule(W, de_dW, aW)\n",
    "    b, auxb = update_rule(b, de_db, ab)\n",
    "    return W,auxW, b, auxb\n",
    "\n",
    "update_py(bigx, bigy, init, bigx, bigy, init)\n"
   ],
   "metadata": {
    "collapsed": false,
    "pycharm": {
     "name": "#%%\n"
    }
   }
  }
 ],
 "metadata": {
  "kernelspec": {
   "name": "pycharm-396cc10a",
   "language": "python",
   "display_name": "PyCharm (cytorch)"
  },
  "language_info": {
   "codemirror_mode": {
    "name": "ipython",
    "version": 2
   },
   "file_extension": ".py",
   "mimetype": "text/x-python",
   "name": "python",
   "nbconvert_exporter": "python",
   "pygments_lexer": "ipython2",
   "version": "2.7.6"
  }
 },
 "nbformat": 4,
 "nbformat_minor": 0
}