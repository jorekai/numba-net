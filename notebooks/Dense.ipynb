{
 "cells": [
  {
   "cell_type": "code",
   "execution_count": 179,
   "metadata": {
    "collapsed": true
   },
   "outputs": [],
   "source": [
    "import time\n",
    "\n",
    "import numpy as np\n",
    "from numba import njit\n",
    "\n",
    "from optimizers import s_sgd\n",
    "\n",
    "class Dense:\n",
    "\n",
    "    def __init__(self, input_dim, output_dim, batch_size=256, optimizer=s_sgd):\n",
    "        self.input_dim = input_dim\n",
    "        self.output_dim = output_dim\n",
    "        self.batch_size = batch_size\n",
    "        self.optimizer = optimizer\n",
    "\n",
    "        # layer params\n",
    "        self.var = np.sqrt(2.0/(self.input_dim + self.output_dim))\n",
    "        self.W = np.random.normal(0, self.var, (self.input_dim, self.output_dim))\n",
    "        self.b = np.abs(np.random.normal(0, self.var, (self.output_dim)))\n",
    "\n",
    "        # init params\n",
    "        self.x = np.zeros((batch_size, self.input_dim))\n",
    "        self.auxW = np.zeros_like(self.W)\n",
    "        self.auxb = np.zeros_like(self.b)\n",
    "\n",
    "        # parameter derivatives\n",
    "        self.de_dW = np.zeros_like(self.W)\n",
    "        self.de_db = np.zeros_like(self.b)\n",
    "\n",
    "    def forward(self, x):\n",
    "        self.x = x\n",
    "        return self.predict(x)\n",
    "\n",
    "    def backward(self, de_dy):\n",
    "        self.de_dW, self.de_db, de_dY = numba_backward(self.x.T, W, de_dy, self.batch_size)\n",
    "        return de_dY\n",
    "\n",
    "    def predict(self, x):\n",
    "        return numba_predict(x, self.W, self.b)\n",
    "\n",
    "    def update(self):\n",
    "        self.W, self.aW = self.optimizer(self.W, self.de_dW, self.aW)\n",
    "        self.b, self.ab = self.optimizer(self.b, self.de_db, self.ab)"
   ]
  },
  {
   "cell_type": "code",
   "execution_count": 180,
   "outputs": [],
   "source": [
    "pydense = Dense(2, 2)"
   ],
   "metadata": {
    "collapsed": false,
    "pycharm": {
     "name": "#%%\n"
    }
   }
  },
  {
   "cell_type": "code",
   "execution_count": 181,
   "outputs": [
    {
     "data": {
      "text/plain": "<__main__.Dense at 0x22d8026d3a0>"
     },
     "execution_count": 181,
     "metadata": {},
     "output_type": "execute_result"
    }
   ],
   "source": [
    "pydense"
   ],
   "metadata": {
    "collapsed": false,
    "pycharm": {
     "name": "#%%\n"
    }
   }
  },
  {
   "cell_type": "code",
   "execution_count": 182,
   "outputs": [],
   "source": [
    "def backward(x, W, de_dy, batch_size=24):\n",
    "    de_dW = (x.T @ de_dy) / batch_size\n",
    "    de_db = de_dy.mean(axis=0)\n",
    "    return de_dW, de_db, de_dy @ W.T\n",
    "\n",
    "x = np.random.normal(0, 1, (1000, 1000))\n",
    "W = np.random.normal(0, 1, (1000, 1000))\n",
    "b = np.random.normal(0, 1, (1000, 1000))\n",
    "de_dy = np.random.normal(0, 1, (1000, 1000))\n",
    "\n",
    "# backward(x, W, de_dy)"
   ],
   "metadata": {
    "collapsed": false,
    "pycharm": {
     "name": "#%%\n"
    }
   }
  },
  {
   "cell_type": "code",
   "execution_count": 183,
   "outputs": [],
   "source": [
    "@njit(fastmath=True)\n",
    "def matmul(a, b):\n",
    "    return a @ b\n",
    "\n",
    "def numba_backward(x, W, de_dy, batch_size=24):\n",
    "    de_dW = matmul(x.T,de_dy) / batch_size\n",
    "    de_db = np.mean(de_dy, axis=0)\n",
    "    return de_dW, de_db, matmul(de_dy, W.T)\n",
    "\n",
    "@njit(fastmath=True)\n",
    "def numba_predict(x, W, b):\n",
    "    return matmul(x, W) + b\n",
    "\n",
    "def predict(x, W, b):\n",
    "    return x @ W + b"
   ],
   "metadata": {
    "collapsed": false,
    "pycharm": {
     "name": "#%%\n"
    }
   }
  },
  {
   "cell_type": "code",
   "execution_count": 184,
   "outputs": [],
   "source": [
    "def ntime():\n",
    "    start = time.time()\n",
    "    numba_predict(x, W, b)\n",
    "    end = time.time()\n",
    "    print(\"Elapsed Numba Pre = %s\" % (end - start))\n",
    "    start = time.time()\n",
    "    f2 = numba_predict(x, W, b)\n",
    "    end = time.time()\n",
    "    print(\"Elapsed Numba Post = %s\" % (end - start))\n",
    "    return f2\n",
    "\n",
    "def ptime():\n",
    "    start = time.time()\n",
    "    f1 = predict(x, W, b)\n",
    "    end = time.time()\n",
    "    print(\"Elapsed PyTime = %s\" % (end - start))\n",
    "    return f1"
   ],
   "metadata": {
    "collapsed": false,
    "pycharm": {
     "name": "#%%\n"
    }
   }
  },
  {
   "cell_type": "code",
   "execution_count": 185,
   "outputs": [
    {
     "name": "stdout",
     "output_type": "stream",
     "text": [
      "Elapsed Numba Pre = 0.2524232864379883\n",
      "Elapsed Numba Post = 0.00997304916381836\n"
     ]
    },
    {
     "data": {
      "text/plain": "array([[ 73.02862061, -49.62178094,  -6.8785207 , ...,  41.3734456 ,\n        -23.35271519,  -5.86568261],\n       [ 20.40711104,  13.3942848 ,   2.3941608 , ..., -23.63026274,\n         69.48409687,  -6.62970565],\n       [-25.78831455, -10.96572162, -28.02274376, ...,  56.49625951,\n         42.70854967,  32.32089384],\n       ...,\n       [ 53.29977259,  43.51158051,  10.06346471, ..., -21.89942842,\n        -82.00427285, -38.66760534],\n       [ 56.2271636 ,  38.76335839,  10.15629974, ...,  -9.95671304,\n         -1.82992546, -13.65583021],\n       [ 20.35099138, -23.20796415,  19.37195767, ...,   6.3885379 ,\n        -13.23735478,  -5.33107986]])"
     },
     "execution_count": 185,
     "metadata": {},
     "output_type": "execute_result"
    }
   ],
   "source": [
    "ntime()"
   ],
   "metadata": {
    "collapsed": false,
    "pycharm": {
     "name": "#%%\n"
    }
   }
  },
  {
   "cell_type": "code",
   "execution_count": 186,
   "outputs": [
    {
     "name": "stdout",
     "output_type": "stream",
     "text": [
      "Elapsed PyTime = 0.011967658996582031\n"
     ]
    },
    {
     "data": {
      "text/plain": "array([[ 73.02862061, -49.62178094,  -6.8785207 , ...,  41.3734456 ,\n        -23.35271519,  -5.86568261],\n       [ 20.40711104,  13.3942848 ,   2.3941608 , ..., -23.63026274,\n         69.48409687,  -6.62970565],\n       [-25.78831455, -10.96572162, -28.02274376, ...,  56.49625951,\n         42.70854967,  32.32089384],\n       ...,\n       [ 53.29977259,  43.51158051,  10.06346471, ..., -21.89942842,\n        -82.00427285, -38.66760534],\n       [ 56.2271636 ,  38.76335839,  10.15629974, ...,  -9.95671304,\n         -1.82992546, -13.65583021],\n       [ 20.35099138, -23.20796415,  19.37195767, ...,   6.3885379 ,\n        -13.23735478,  -5.33107986]])"
     },
     "execution_count": 186,
     "metadata": {},
     "output_type": "execute_result"
    }
   ],
   "source": [
    "ptime()"
   ],
   "metadata": {
    "collapsed": false,
    "pycharm": {
     "name": "#%%\n"
    }
   }
  }
 ],
 "metadata": {
  "kernelspec": {
   "name": "pycharm-396cc10a",
   "language": "python",
   "display_name": "PyCharm (cytorch)"
  },
  "language_info": {
   "codemirror_mode": {
    "name": "ipython",
    "version": 2
   },
   "file_extension": ".py",
   "mimetype": "text/x-python",
   "name": "python",
   "nbconvert_exporter": "python",
   "pygments_lexer": "ipython2",
   "version": "2.7.6"
  }
 },
 "nbformat": 4,
 "nbformat_minor": 0
}