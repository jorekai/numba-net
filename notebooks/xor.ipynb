{
 "cells": [
  {
   "cell_type": "code",
   "execution_count": 15,
   "metadata": {
    "collapsed": true,
    "pycharm": {
     "name": "#%%\n"
    }
   },
   "outputs": [],
   "source": [
    "#!/usr/bin/python3 -u\n",
    "import time\n",
    "import numpy as np\n",
    "\n",
    "import sys; sys.path.append('..')\n",
    "from net import Sequential\n",
    "from layers import Dense, Activation\n",
    "from losses import s_mse, mse\n",
    "from optimizers import sgd, adam\n",
    "\n",
    "def train_xor_net():\n",
    "    x = np.array([[0,0],[0,1],[1,0],[1,1]], dtype=np.double)\n",
    "    y = np.array([[0],[1],[1],[0]], dtype=np.double)\n",
    "    x[x==0] = 0.01; x[x==1] = 0.99;\n",
    "    y[y==0] = 0.01; y[y==1] = 0.99;\n",
    "\n",
    "    net = Sequential([\n",
    "        Dense(input_dim=2, output_dim=7),\n",
    "        Activation('tanh'),\n",
    "\n",
    "        Dense(input_dim=7, output_dim=1),\n",
    "        Activation('sigmoid')\n",
    "    ])\n",
    "\n",
    "    net.configure(batch_size=2, objective=s_mse,\n",
    "                  optimizer=adam(lr=1e-2))\n",
    "    net.train(x, y, epochs=1000, display=False)\n",
    "    print(net.predict(x))"
   ]
  },
  {
   "cell_type": "code",
   "execution_count": 16,
   "outputs": [
    {
     "name": "stdout",
     "output_type": "stream",
     "text": [
      "[[0.01273031]\n",
      " [0.98774629]\n",
      " [0.98690485]\n",
      " [0.01221292]]\n",
      "Elapsed Numba Pre = 0.18051719665527344\n",
      "[[0.01258068]\n",
      " [0.98728216]\n",
      " [0.98755487]\n",
      " [0.01158591]]\n",
      "Elapsed Numba Post = 0.21143412590026855\n"
     ]
    }
   ],
   "source": [
    "def ntime():\n",
    "    start = time.time()\n",
    "    train_xor_net()\n",
    "    end = time.time()\n",
    "    print(\"Elapsed Numba Pre = %s\" % (end - start))\n",
    "    start = time.time()\n",
    "    train_xor_net()\n",
    "    end = time.time()\n",
    "    print(\"Elapsed Numba Post = %s\" % (end - start))\n",
    "\n",
    "ntime()"
   ],
   "metadata": {
    "collapsed": false,
    "pycharm": {
     "name": "#%%\n"
    }
   }
  }
 ],
 "metadata": {
  "kernelspec": {
   "name": "pycharm-396cc10a",
   "language": "python",
   "display_name": "PyCharm (cytorch)"
  },
  "language_info": {
   "codemirror_mode": {
    "name": "ipython",
    "version": 2
   },
   "file_extension": ".py",
   "mimetype": "text/x-python",
   "name": "python",
   "nbconvert_exporter": "python",
   "pygments_lexer": "ipython2",
   "version": "2.7.6"
  }
 },
 "nbformat": 4,
 "nbformat_minor": 0
}