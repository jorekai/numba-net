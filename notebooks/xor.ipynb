{
 "cells": [
  {
   "cell_type": "code",
   "execution_count": 21,
   "metadata": {
    "collapsed": true,
    "pycharm": {
     "name": "#%%\n"
    }
   },
   "outputs": [],
   "source": [
    "#!/usr/bin/python3 -u\n",
    "import time\n",
    "import numpy as np\n",
    "\n",
    "import sys; sys.path.append('..')\n",
    "from net import Sequential\n",
    "from layers import Dense, Activation, Dropout\n",
    "from losses import s_mse\n",
    "from optimizers import s_sgd\n",
    "\n",
    "def train_xor_net():\n",
    "    x = np.array([[0,0],[0,1],[1,0],[1,1]], dtype=np.double)\n",
    "    y = np.array([[0],[1],[1],[0]], dtype=np.double)\n",
    "    x[x==0] = 0.01; x[x==1] = 0.99;\n",
    "    y[y==0] = 0.01; y[y==1] = 0.99;\n",
    "\n",
    "    net = Sequential([\n",
    "        Dense(input_dim=2, output_dim=7, optimizer=s_sgd),\n",
    "        Activation('tanh'),\n",
    "        Dropout(ratio=0.5),\n",
    "\n",
    "        Dense(input_dim=7, output_dim=1, optimizer=s_sgd),\n",
    "        Activation('sigmoid')\n",
    "    ])\n",
    "\n",
    "    net.configure(batch_size=2, objective=s_mse,\n",
    "                  optimizer=s_sgd)\n",
    "    net.train(x, y, epochs=10000, display=False)\n",
    "    print(net.predict(x))"
   ]
  },
  {
   "cell_type": "code",
   "execution_count": 22,
   "outputs": [
    {
     "name": "stdout",
     "output_type": "stream",
     "text": [
      "[[0.00683753]\n",
      " [0.87806438]\n",
      " [0.83710281]\n",
      " [0.01722401]]\n",
      "Elapsed Numba Pre = 1.492011547088623\n",
      "[[0.00921074]\n",
      " [0.91374929]\n",
      " [0.93014859]\n",
      " [0.01835192]]\n",
      "Elapsed Numba Post = 1.347398281097412\n"
     ]
    }
   ],
   "source": [
    "def ntime():\n",
    "    start = time.time()\n",
    "    train_xor_net()\n",
    "    end = time.time()\n",
    "    print(\"Elapsed Numba Pre = %s\" % (end - start))\n",
    "    start = time.time()\n",
    "    train_xor_net()\n",
    "    end = time.time()\n",
    "    print(\"Elapsed Numba Post = %s\" % (end - start))\n",
    "\n",
    "ntime()"
   ],
   "metadata": {
    "collapsed": false,
    "pycharm": {
     "name": "#%%\n"
    }
   }
  }
 ],
 "metadata": {
  "kernelspec": {
   "name": "pycharm-396cc10a",
   "language": "python",
   "display_name": "PyCharm (cytorch)"
  },
  "language_info": {
   "codemirror_mode": {
    "name": "ipython",
    "version": 2
   },
   "file_extension": ".py",
   "mimetype": "text/x-python",
   "name": "python",
   "nbconvert_exporter": "python",
   "pygments_lexer": "ipython2",
   "version": "2.7.6"
  }
 },
 "nbformat": 4,
 "nbformat_minor": 0
}