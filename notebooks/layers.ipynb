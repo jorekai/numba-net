{
 "cells": [
  {
   "cell_type": "code",
   "execution_count": 225,
   "metadata": {
    "collapsed": true
   },
   "outputs": [],
   "source": [
    "import time\n",
    "import numpy as np\n",
    "from numba import int32, float32, vectorize, njit, guvectorize, float64, prange, intp  # import the types\n",
    "from numba.experimental import jitclass"
   ]
  },
  {
   "cell_type": "code",
   "execution_count": 226,
   "outputs": [],
   "source": [
    "def gu_random_normal(func, *args, **kwargs):\n",
    "    \"\"\"\n",
    "    The guvectorize decorated method, runs in nopython mode\n",
    "    :param func: a loss error method\n",
    "    :param target: choose between | 1: None -> serial | 2: 'parallel' -> parallel | execution method\n",
    "    :return: the decorated loss, error function\n",
    "    \"\"\"\n",
    "    kwargs_ = {k: v for k, v in kwargs.items() if v is not None}\n",
    "    return guvectorize([(float32, float32, float32[:,:], float32[:,:]),\n",
    "              (float64, float64, float64[:,:], float64[:,:])],'(),(),(m,n)->(m,n)', nopython=True, fastmath=True, *args, **kwargs_)(func)\n",
    "\n",
    "def random_normal(mu, sigma, arr, out):\n",
    "    dim1 = arr[0].shape\n",
    "    dim2 = arr[1].shape\n",
    "    for i in prange(*dim1):\n",
    "        for j in prange(*dim2):\n",
    "            out[i][j] = np.random.normal(mu, sigma)"
   ],
   "metadata": {
    "collapsed": false,
    "pycharm": {
     "name": "#%%\n"
    }
   }
  },
  {
   "cell_type": "code",
   "execution_count": 227,
   "outputs": [],
   "source": [
    "shape = np.zeros((2000,2000), dtype=np.float32)\n",
    "s_rnd_norm = gu_random_normal(random_normal)\n",
    "p_rnd_norm = gu_random_normal(random_normal, target='parallel')"
   ],
   "metadata": {
    "collapsed": false,
    "pycharm": {
     "name": "#%%\n"
    }
   }
  },
  {
   "cell_type": "code",
   "execution_count": 228,
   "outputs": [],
   "source": [
    "def ntime(func1):\n",
    "    start = time.time()\n",
    "    func1(0, 2, shape)\n",
    "    end = time.time()\n",
    "    print(\"Elapsed Numba Pre = %s\" % (end - start))\n",
    "    start = time.time()\n",
    "    f2 = func1(0, 2, shape)\n",
    "    end = time.time()\n",
    "    print(\"Elapsed Numba Post = %s\" % (end - start))\n",
    "    return f2\n",
    "\n",
    "def ptime():\n",
    "    start = time.time()\n",
    "    f1 = np.random.normal(0, 2, (20000, 20000))\n",
    "    end = time.time()\n",
    "    print(\"Elapsed PyTime = %s\" % (end - start))\n",
    "    return f1"
   ],
   "metadata": {
    "collapsed": false,
    "pycharm": {
     "name": "#%%\n"
    }
   }
  },
  {
   "cell_type": "code",
   "execution_count": 229,
   "outputs": [
    {
     "name": "stdout",
     "output_type": "stream",
     "text": [
      "Elapsed Numba Pre = 0.0828244686126709\n",
      "Elapsed Numba Post = 0.0807652473449707\n"
     ]
    },
    {
     "data": {
      "text/plain": "array([[ 1.2723088 ,  1.3387862 , -0.48738942, ..., -0.83457154,\n         1.8766505 , -1.7317517 ],\n       [ 0.36621222, -0.70813745, -0.1992119 , ...,  0.33104214,\n         0.16246265,  0.16894118],\n       [-1.7813585 , -0.2928216 , -1.3698263 , ..., -0.70905495,\n         2.0705454 , -0.4166943 ],\n       ...,\n       [ 1.0389138 , -0.50361574, -1.958488  , ..., -4.8322167 ,\n         1.5135796 , -0.21287723],\n       [-0.76075965,  0.49102527, -0.8238306 , ..., -0.39448524,\n        -0.50381696, -0.5980589 ],\n       [ 0.14896476, -0.86886746,  1.0353479 , ...,  1.8339335 ,\n         1.5804843 ,  2.1500037 ]], dtype=float32)"
     },
     "execution_count": 229,
     "metadata": {},
     "output_type": "execute_result"
    }
   ],
   "source": [
    "ntime(s_rnd_norm)"
   ],
   "metadata": {
    "collapsed": false,
    "pycharm": {
     "name": "#%%\n"
    }
   }
  },
  {
   "cell_type": "code",
   "execution_count": 230,
   "outputs": [
    {
     "name": "stdout",
     "output_type": "stream",
     "text": [
      "Elapsed Numba Pre = 0.08176612854003906\n",
      "Elapsed Numba Post = 0.0797872543334961\n"
     ]
    },
    {
     "data": {
      "text/plain": "array([[-2.1440723 , -2.2859163 , -3.1708097 , ..., -3.9074945 ,\n        -0.45936233,  2.7470052 ],\n       [ 0.9685498 , -1.5892606 , -1.3003803 , ..., -0.36321074,\n         0.12206651, -2.366153  ],\n       [-1.1292521 , -2.264473  ,  1.7200072 , ..., -0.4070027 ,\n         4.197665  ,  0.5973122 ],\n       ...,\n       [-0.52780545,  0.76551336, -1.1112909 , ...,  2.0779326 ,\n         0.24334511, -3.19986   ],\n       [-2.3833132 , -0.5552249 , -0.53840846, ...,  0.62006795,\n         2.575955  ,  1.7154983 ],\n       [ 1.2176105 ,  1.1854285 ,  1.9820133 , ..., -1.0665817 ,\n        -2.6381419 , -0.95294094]], dtype=float32)"
     },
     "execution_count": 230,
     "metadata": {},
     "output_type": "execute_result"
    }
   ],
   "source": [
    "ntime(p_rnd_norm)"
   ],
   "metadata": {
    "collapsed": false,
    "pycharm": {
     "name": "#%%\n"
    }
   }
  },
  {
   "cell_type": "code",
   "execution_count": 231,
   "outputs": [
    {
     "name": "stdout",
     "output_type": "stream",
     "text": [
      "Elapsed PyTime = 9.08271336555481\n"
     ]
    },
    {
     "data": {
      "text/plain": "array([[ 2.94384583,  1.4411226 ,  0.29812779, ..., -2.23757692,\n        -0.10575123, -1.35847441],\n       [ 0.52092974,  1.06742107, -0.55918857, ...,  2.91952741,\n        -0.47194981, -3.76958197],\n       [ 3.35081503, -0.79997393,  5.13770238, ...,  1.40563647,\n         1.24586471, -0.53034035],\n       ...,\n       [ 2.08999267, -4.14367295, -1.46096909, ...,  0.18077225,\n         2.12557491, -1.85438452],\n       [ 3.2827488 , -3.45519774,  0.33831735, ..., -0.24976689,\n         1.12164158,  0.68423069],\n       [ 3.29175257,  0.26550488,  3.00913531, ..., -1.05405684,\n         4.12808288, -1.8439115 ]])"
     },
     "execution_count": 231,
     "metadata": {},
     "output_type": "execute_result"
    }
   ],
   "source": [
    "ptime()\n"
   ],
   "metadata": {
    "collapsed": false,
    "pycharm": {
     "name": "#%%\n"
    }
   }
  }
 ],
 "metadata": {
  "kernelspec": {
   "name": "pycharm-396cc10a",
   "language": "python",
   "display_name": "PyCharm (cytorch)"
  },
  "language_info": {
   "codemirror_mode": {
    "name": "ipython",
    "version": 2
   },
   "file_extension": ".py",
   "mimetype": "text/x-python",
   "name": "python",
   "nbconvert_exporter": "python",
   "pygments_lexer": "ipython2",
   "version": "2.7.6"
  }
 },
 "nbformat": 4,
 "nbformat_minor": 0
}