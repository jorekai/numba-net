{
 "cells": [
  {
   "cell_type": "code",
   "execution_count": 41,
   "metadata": {
    "collapsed": true
   },
   "outputs": [],
   "source": [
    "import math\n",
    "import time\n",
    "import numba\n",
    "import numpy as np\n",
    "from numba import guvectorize, float32, float64"
   ]
  },
  {
   "cell_type": "code",
   "execution_count": 42,
   "outputs": [],
   "source": [
    "# The target keyword decorator for loss and error return\n",
    "\n",
    "def gu_activate(func, *args, **kwargs):\n",
    "    \"\"\"\n",
    "    The guvectorize decorated method, runs in nopython mode\n",
    "    :param func: a loss error method\n",
    "    :param target: choose between | 1: None -> serial | 2: 'parallel' -> parallel | execution method\n",
    "    :return: the decorated loss, error function\n",
    "    \"\"\"\n",
    "    kwargs_ = {k: v for k, v in kwargs.items() if v is not None}\n",
    "    return guvectorize([(float32[:], float32[:]),\n",
    "                      (float64[:], float64[:])],\n",
    "                     '(n)->(n)', nopython=True, *args, **kwargs_)(func)"
   ],
   "metadata": {
    "collapsed": false,
    "pycharm": {
     "name": "#%%\n"
    }
   }
  },
  {
   "cell_type": "code",
   "execution_count": 43,
   "outputs": [],
   "source": [
    "def relu(x, y):\n",
    "    for i in range(x.shape[0]):\n",
    "        y[i] = max(0, x[i])\n",
    "\n",
    "def relu_d(x, y):\n",
    "    for i in range(x.shape[0]):\n",
    "        y[i] = 1 if x[i] > 0 else 0\n",
    "\n",
    "def tanh(x, y):\n",
    "    for i in range(x.shape[0]):\n",
    "        y[i] = math.tanh(x[i])\n",
    "\n",
    "def tanh_d(x, y):\n",
    "    for i in range(x.shape[0]):\n",
    "        y[i] = 1 - x[i]**2\n",
    "\n",
    "def sigmoid(x, y):\n",
    "    for i in range(x.shape[0]):\n",
    "        y[i] = 1./(1 + np.exp(-x[i]))\n",
    "\n",
    "def sigmoid_d(x, y):\n",
    "    for i in range(x.shape[0]):\n",
    "        y[i] = x[i] - x[i]**2\n",
    "\n",
    "def py_relu(x):\n",
    "    x[x<0] = 0\n",
    "    return x\n",
    "def py_d_relu(y):\n",
    "    y[y>0] = 1\n",
    "    return y\n",
    "def py_tanh(x):\n",
    "    return np.tanh(x)\n",
    "def py_d_tanh(y):\n",
    "    return 1 - y**2\n",
    "\n",
    "def py_sigmoid(x):\n",
    "    return 1./(1 + np.exp(-x))\n",
    "def py_d_sigmoid(y):\n",
    "    return y - y**2"
   ],
   "metadata": {
    "collapsed": false,
    "pycharm": {
     "name": "#%%\n"
    }
   }
  },
  {
   "cell_type": "code",
   "execution_count": 44,
   "outputs": [
    {
     "data": {
      "text/plain": "array([-0.77226245,  0.8425378 , -0.30387393, ..., -0.2894455 ,\n       -0.9846776 ,  0.17497383], dtype=float32)"
     },
     "execution_count": 44,
     "metadata": {},
     "output_type": "execute_result"
    }
   ],
   "source": [
    "neurons = np.random.uniform(-1, 1, 50000000).astype(np.float32)\n",
    "neurons"
   ],
   "metadata": {
    "collapsed": false,
    "pycharm": {
     "name": "#%%\n"
    }
   }
  },
  {
   "cell_type": "code",
   "execution_count": 45,
   "outputs": [],
   "source": [
    "s_relu = gu_activate(relu, fastmath=True)\n",
    "p_relu = gu_activate(relu, target='parallel', fastmath=True)\n",
    "c_relu = gu_activate(relu, target='cuda')\n",
    "s_relu_d = gu_activate(relu_d, fastmath=True)\n",
    "p_relu_d = gu_activate(relu_d, target='parallel', fastmath=True)\n",
    "c_relu_d = gu_activate(relu_d, target='cuda')\n",
    "\n",
    "s_tanh = gu_activate(tanh, fastmath=True)\n",
    "p_tanh = gu_activate(tanh, target='parallel', fastmath=True)\n",
    "c_tanh = gu_activate(tanh, target='cuda')\n",
    "s_tanh_d = gu_activate(tanh_d, fastmath=True)\n",
    "p_tanh_d = gu_activate(tanh_d, target='parallel', fastmath=True)\n",
    "c_tanh_d = gu_activate(tanh_d, target='cuda')\n",
    "\n",
    "s_sigmoid = gu_activate(sigmoid, fastmath=True)\n",
    "p_sigmoid = gu_activate(sigmoid, target='parallel', fastmath=True)\n",
    "s_sigmoid_d = gu_activate(sigmoid_d, fastmath=True)\n",
    "p_sigmoid_d = gu_activate(sigmoid_d, target='parallel', fastmath=True)"
   ],
   "metadata": {
    "collapsed": false,
    "pycharm": {
     "name": "#%%\n"
    }
   }
  },
  {
   "cell_type": "code",
   "execution_count": 46,
   "outputs": [],
   "source": [
    "def ntime(func1):\n",
    "    start = time.time()\n",
    "    func1(neurons)\n",
    "    end = time.time()\n",
    "    print(\"Elapsed Numba Pre = %s\" % (end - start))\n",
    "    start = time.time()\n",
    "    f2 = func1(neurons)\n",
    "    end = time.time()\n",
    "    print(\"Elapsed Numba Post = %s\" % (end - start))\n",
    "    return f2\n",
    "\n",
    "def ptime(func1):\n",
    "    start = time.time()\n",
    "    f1 = func1(neurons)\n",
    "    end = time.time()\n",
    "    print(\"Elapsed PyTime = %s\" % (end - start))\n",
    "    return f1"
   ],
   "metadata": {
    "collapsed": false,
    "pycharm": {
     "name": "#%%\n"
    }
   }
  },
  {
   "cell_type": "code",
   "execution_count": 47,
   "outputs": [
    {
     "name": "stdout",
     "output_type": "stream",
     "text": [
      "Elapsed Numba Pre = 0.28424763679504395\n",
      "Elapsed Numba Post = 0.2742300033569336\n",
      "Elapsed PyTime = 0.3400919437408447\n"
     ]
    },
    {
     "data": {
      "text/plain": "(array([0.3159899 , 0.69899946, 0.42461073, ..., 0.42813963, 0.27196464,\n        0.5436322 ], dtype=float32),\n array([0.3159899 , 0.6989994 , 0.42461073, ..., 0.42813963, 0.27196464,\n        0.5436322 ], dtype=float32))"
     },
     "execution_count": 47,
     "metadata": {},
     "output_type": "execute_result"
    }
   ],
   "source": [
    "ntime(s_sigmoid), ptime(py_sigmoid)"
   ],
   "metadata": {
    "collapsed": false,
    "pycharm": {
     "name": "#%%\n"
    }
   }
  },
  {
   "cell_type": "markdown",
   "source": [
    "Try Cuda Activations"
   ],
   "metadata": {
    "collapsed": false
   }
  },
  {
   "cell_type": "code",
   "execution_count": 48,
   "outputs": [
    {
     "name": "stdout",
     "output_type": "stream",
     "text": [
      "Elapsed Numba Pre = 17.05155324935913\n",
      "Elapsed Numba Post = 17.003385066986084\n"
     ]
    },
    {
     "data": {
      "text/plain": "array([-0.64824307,  0.68715096, -0.29485375, ..., -0.28162435,\n       -0.7550837 ,  0.17320979], dtype=float32)"
     },
     "execution_count": 48,
     "metadata": {},
     "output_type": "execute_result"
    }
   ],
   "source": [
    "from numba import cuda\n",
    "cuda.select_device(0)\n",
    "ntime(c_tanh)"
   ],
   "metadata": {
    "collapsed": false,
    "pycharm": {
     "name": "#%%\n"
    }
   }
  }
 ],
 "metadata": {
  "kernelspec": {
   "name": "pycharm-396cc10a",
   "language": "python",
   "display_name": "PyCharm (cytorch)"
  },
  "language_info": {
   "codemirror_mode": {
    "name": "ipython",
    "version": 2
   },
   "file_extension": ".py",
   "mimetype": "text/x-python",
   "name": "python",
   "nbconvert_exporter": "python",
   "pygments_lexer": "ipython2",
   "version": "2.7.6"
  }
 },
 "nbformat": 4,
 "nbformat_minor": 0
}