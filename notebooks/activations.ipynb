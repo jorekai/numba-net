{
 "cells": [
  {
   "cell_type": "code",
   "execution_count": 209,
   "metadata": {
    "collapsed": true
   },
   "outputs": [],
   "source": [
    "import time\n",
    "import numba\n",
    "import numpy as np\n",
    "from numba import guvectorize, float32, float64"
   ]
  },
  {
   "cell_type": "code",
   "execution_count": 210,
   "outputs": [],
   "source": [
    "# The target keyword decorator for loss and error return\n",
    "\n",
    "def gu_activate(func, *args, **kwargs):\n",
    "    \"\"\"\n",
    "    The guvectorize decorated method, runs in nopython mode\n",
    "    :param func: a loss error method\n",
    "    :param target: choose between | 1: None -> serial | 2: 'parallel' -> parallel | execution method\n",
    "    :return: the decorated loss, error function\n",
    "    \"\"\"\n",
    "    kwargs_ = {k: v for k, v in kwargs.items() if v is not None}\n",
    "    return guvectorize([(float32[:], float32[:]),\n",
    "                      (float64[:], float64[:])],\n",
    "                     '(n)->(n)', nopython=True, fastmath=True, *args, **kwargs_)(func)"
   ],
   "metadata": {
    "collapsed": false,
    "pycharm": {
     "name": "#%%\n"
    }
   }
  },
  {
   "cell_type": "code",
   "execution_count": 211,
   "outputs": [],
   "source": [
    "def relu(x, y):\n",
    "    for i in range(x.shape[0]):\n",
    "        y[i] = max(0, x[i])\n",
    "\n",
    "def relu_d(x, y):\n",
    "    for i in range(x.shape[0]):\n",
    "        y[i] = 1 if x[i] > 0 else 0\n",
    "\n",
    "def tanh(x, y):\n",
    "    for i in range(x.shape[0]):\n",
    "        y[i] = np.tanh(x[i])\n",
    "\n",
    "def tanh_d(x, y):\n",
    "    for i in range(x.shape[0]):\n",
    "        y[i] = 1 - x[i]**2\n",
    "\n",
    "def py_relu(x):\n",
    "    x[x<0] = 0\n",
    "    return x\n",
    "def py_d_relu(y):\n",
    "    y[y>0] = 1\n",
    "    return y\n",
    "def py_tanh(x):\n",
    "    return np.tanh(x)\n",
    "def py_d_tanh(y):\n",
    "    return 1 - y**2\n",
    "\n",
    "def py_sigmoid(x):\n",
    "    return 1./(1 + np.exp(-x))\n",
    "def py_d_sigmoid(y):\n",
    "    return y - y**2"
   ],
   "metadata": {
    "collapsed": false,
    "pycharm": {
     "name": "#%%\n"
    }
   }
  },
  {
   "cell_type": "code",
   "execution_count": 212,
   "outputs": [
    {
     "data": {
      "text/plain": "array([0.1760637 , 0.20198546, 0.44630915, ..., 0.09246934, 0.68849355,\n       0.38656268], dtype=float32)"
     },
     "execution_count": 212,
     "metadata": {},
     "output_type": "execute_result"
    }
   ],
   "source": [
    "neurons = np.random.uniform(-1, 1, 1000000).astype(np.float32)\n",
    "neurons"
   ],
   "metadata": {
    "collapsed": false,
    "pycharm": {
     "name": "#%%\n"
    }
   }
  },
  {
   "cell_type": "code",
   "execution_count": 213,
   "outputs": [],
   "source": [
    "s_relu = gu_activate(relu)\n",
    "p_relu = gu_activate(relu, target='parallel')\n",
    "s_relu_d = gu_activate(relu_d)\n",
    "p_relu_d = gu_activate(relu_d, target='parallel')\n",
    "\n",
    "s_tanh = gu_activate(tanh)\n",
    "p_tanh = gu_activate(tanh, target='parallel')\n",
    "s_tanh_d = gu_activate(tanh_d)\n",
    "p_tanh_d = gu_activate(tanh_d, target='parallel')"
   ],
   "metadata": {
    "collapsed": false,
    "pycharm": {
     "name": "#%%\n"
    }
   }
  },
  {
   "cell_type": "code",
   "execution_count": 214,
   "outputs": [],
   "source": [
    "def ntime(func1):\n",
    "    start = time.time()\n",
    "    func1(neurons)\n",
    "    end = time.time()\n",
    "    print(\"Elapsed Numba Pre = %s\" % (end - start))\n",
    "    start = time.time()\n",
    "    f2 = func1(neurons)\n",
    "    end = time.time()\n",
    "    print(\"Elapsed Numba Post = %s\" % (end - start))\n",
    "    return f2\n",
    "\n",
    "def ptime(func1):\n",
    "    start = time.time()\n",
    "    f1 = func1(neurons)\n",
    "    end = time.time()\n",
    "    print(\"Elapsed PyTime = %s\" % (end - start))\n",
    "    return f1"
   ],
   "metadata": {
    "collapsed": false,
    "pycharm": {
     "name": "#%%\n"
    }
   }
  },
  {
   "cell_type": "code",
   "execution_count": 215,
   "outputs": [
    {
     "name": "stdout",
     "output_type": "stream",
     "text": [
      "Elapsed Numba Pre = 0.007977962493896484\n",
      "Elapsed Numba Post = 0.006982326507568359\n",
      "Elapsed PyTime = 0.007977008819580078\n"
     ]
    },
    {
     "data": {
      "text/plain": "(array([0.17426674, 0.19928269, 0.4188604 , ..., 0.09220669, 0.59701335,\n        0.36839315], dtype=float32),\n array([0.17426674, 0.19928269, 0.4188604 , ..., 0.09220669, 0.59701335,\n        0.36839315], dtype=float32))"
     },
     "execution_count": 215,
     "metadata": {},
     "output_type": "execute_result"
    }
   ],
   "source": [
    "ntime(p_tanh), ptime(py_tanh)"
   ],
   "metadata": {
    "collapsed": false,
    "pycharm": {
     "name": "#%%\n"
    }
   }
  }
 ],
 "metadata": {
  "kernelspec": {
   "name": "pycharm-396cc10a",
   "language": "python",
   "display_name": "PyCharm (cytorch)"
  },
  "language_info": {
   "codemirror_mode": {
    "name": "ipython",
    "version": 2
   },
   "file_extension": ".py",
   "mimetype": "text/x-python",
   "name": "python",
   "nbconvert_exporter": "python",
   "pygments_lexer": "ipython2",
   "version": "2.7.6"
  }
 },
 "nbformat": 4,
 "nbformat_minor": 0
}