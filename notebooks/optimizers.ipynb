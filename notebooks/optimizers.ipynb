{
 "cells": [
  {
   "cell_type": "code",
   "execution_count": 23,
   "metadata": {
    "collapsed": true
   },
   "outputs": [],
   "source": [
    "import numpy as np\n",
    "from numba import vectorize, jit\n",
    "\n",
    "@jit(fastmath=True)\n",
    "def sgd():\n",
    "    lr=1e-4\n",
    "    mu=0.9\n",
    "    weight_decay=0\n",
    "    def aux_init(param):\n",
    "        return np.zeros_like(param)\n",
    "    def update_rule(x, dx, aux):\n",
    "        x = (1-weight_decay) * x\n",
    "        aux = mu * aux - lr * dx\n",
    "        x = np.add(x, aux)\n",
    "        return x, aux\n",
    "    return aux_init, update_rule"
   ]
  },
  {
   "cell_type": "code",
   "execution_count": 24,
   "outputs": [
    {
     "name": "stderr",
     "output_type": "stream",
     "text": [
      "<ipython-input-23-6e6fd9482065>:16: NumbaExperimentalFeatureWarning: First-class function type feature is experimental\n",
      "  return aux_init, update_rule\n"
     ]
    },
    {
     "data": {
      "text/plain": "(array([0.9995, 1.9994, 2.9993, 3.9992]),\n array([-0.0005, -0.0006, -0.0007, -0.0008]))"
     },
     "execution_count": 24,
     "metadata": {},
     "output_type": "execute_result"
    }
   ],
   "source": [
    "x = np.array([1, 2, 3, 4])\n",
    "dx = np.array([5, 6, 7, 8])\n",
    "init, update = sgd()\n",
    "aux = init(np.array([1,1,1,1]))\n",
    "update(x, dx, aux)"
   ],
   "metadata": {
    "collapsed": false,
    "pycharm": {
     "name": "#%%\n"
    }
   }
  }
 ],
 "metadata": {
  "kernelspec": {
   "display_name": "Python 3",
   "language": "python",
   "name": "python3"
  },
  "language_info": {
   "codemirror_mode": {
    "name": "ipython",
    "version": 2
   },
   "file_extension": ".py",
   "mimetype": "text/x-python",
   "name": "python",
   "nbconvert_exporter": "python",
   "pygments_lexer": "ipython2",
   "version": "2.7.6"
  }
 },
 "nbformat": 4,
 "nbformat_minor": 0
}