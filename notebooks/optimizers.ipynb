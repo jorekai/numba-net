{
 "cells": [
  {
   "cell_type": "code",
   "execution_count": 193,
   "metadata": {
    "collapsed": true
   },
   "outputs": [],
   "source": [
    "import time\n",
    "\n",
    "import numpy as np\n",
    "from numba import guvectorize, float32, float64, prange\n",
    "\n",
    "def sgdpy():\n",
    "    lr=1e-4\n",
    "    mu=0.9\n",
    "    weight_decay=0\n",
    "    def aux_init(param):\n",
    "        return np.zeros_like(param)\n",
    "    def update_rule(x, dx, aux):\n",
    "        x = (1-weight_decay) * x\n",
    "        aux = mu * aux - lr * dx\n",
    "        x = np.add(x, aux)\n",
    "        return x, aux\n",
    "    return aux_init, update_rule\n",
    "\n",
    "def sgd(x, y, lr, mu, decay, out, init):\n",
    "    init[:] = np.zeros_like(x)\n",
    "    for i in prange(x.shape[0]):\n",
    "        out[i] = (1-decay) * x[i]\n",
    "        init[i] = mu * init[i] - lr * y[i]\n",
    "        out[i] = np.add(out[i], init[i])\n",
    "\n",
    "def gu_optimizer(func, *args, **kwargs):\n",
    "    \"\"\"\n",
    "    The guvectorize decorated method, runs in nopython mode\n",
    "    :param func: a loss error method\n",
    "    :param target: choose between | 1: None -> serial | 2: 'parallel' -> parallel | execution method\n",
    "    :return: the decorated loss, error function\n",
    "    \"\"\"\n",
    "    kwargs_ = {k: v for k, v in kwargs.items() if v is not None}\n",
    "    return guvectorize([(float32[:], float32[:], float32, float32, float32, float32[:], float32[:]),\n",
    "                      (float64[:], float64[:], float64, float64, float64, float64[:], float64[:])],\n",
    "                     '(n),(n),(),(),()->(n),(n)', nopython=True, fastmath=True, *args, **kwargs_)(func)\n",
    "\n",
    "s_sgd = gu_optimizer(sgd)\n",
    "p_sgd = gu_optimizer(sgd, target='parallel')"
   ]
  },
  {
   "cell_type": "code",
   "execution_count": 194,
   "outputs": [],
   "source": [
    "bigx = np.arange(0, 10000000, dtype=np.float32)\n",
    "bigy = np.arange(10000000, 20000000, dtype=np.float32)\n",
    "\n",
    "def ntime(func1):\n",
    "    start = time.time()\n",
    "    func1(bigx, bigy, 1e-4, 0.9, 0.0)\n",
    "    end = time.time()\n",
    "    print(\"Elapsed Numba Pre = %s\" % (end - start))\n",
    "    start = time.time()\n",
    "    f2 = func1(bigx, bigy, 1e-4, 0.9, 0.0)\n",
    "    end = time.time()\n",
    "    print(\"Elapsed Numba Post = %s\" % (end - start))\n",
    "    return f2\n",
    "\n",
    "def ptime(func1):\n",
    "    start = time.time()\n",
    "    init, update = func1()\n",
    "    aux = init(bigx)\n",
    "    f1 = update(bigx, bigy, aux)\n",
    "    end = time.time()\n",
    "    print(\"Elapsed PyTime = %s\" % (end - start))\n",
    "    return f1"
   ],
   "metadata": {
    "collapsed": false,
    "pycharm": {
     "name": "#%%\n"
    }
   }
  },
  {
   "cell_type": "code",
   "execution_count": null,
   "outputs": [],
   "source": [
    "s = ntime(s_sgd)\n",
    "p = ntime(p_sgd)\n",
    "py = ptime(sgdpy)"
   ],
   "metadata": {
    "collapsed": false,
    "pycharm": {
     "name": "#%%\n"
    }
   }
  },
  {
   "cell_type": "code",
   "execution_count": null,
   "outputs": [],
   "source": [
    "np.testing.assert_allclose(s, p)"
   ],
   "metadata": {
    "collapsed": false,
    "pycharm": {
     "name": "#%%\n"
    }
   }
  },
  {
   "cell_type": "code",
   "execution_count": 195,
   "outputs": [
    {
     "name": "stdout",
     "output_type": "stream",
     "text": [
      "Elapsed Numba Pre = 0.03693389892578125\n",
      "Elapsed Numba Post = 0.0359034538269043\n",
      "Elapsed Numba Pre = 0.037859439849853516\n",
      "Elapsed Numba Post = 0.03889584541320801\n",
      "Elapsed PyTime = 0.055850982666015625\n"
     ]
    }
   ],
   "source": [
    "np.testing.assert_allclose(s, p)"
   ],
   "metadata": {
    "collapsed": false,
    "pycharm": {
     "name": "#%%\n"
    }
   }
  },
  {
   "cell_type": "code",
   "execution_count": 196,
   "outputs": [],
   "source": [
    "np.testing.assert_allclose(s, p)"
   ],
   "metadata": {
    "collapsed": false,
    "pycharm": {
     "name": "#%%\n"
    }
   }
  }
 ],
 "metadata": {
  "kernelspec": {
   "name": "pycharm-396cc10a",
   "language": "python",
   "display_name": "PyCharm (cytorch)"
  },
  "language_info": {
   "codemirror_mode": {
    "name": "ipython",
    "version": 2
   },
   "file_extension": ".py",
   "mimetype": "text/x-python",
   "name": "python",
   "nbconvert_exporter": "python",
   "pygments_lexer": "ipython2",
   "version": "2.7.6"
  }
 },
 "nbformat": 4,
 "nbformat_minor": 0
}