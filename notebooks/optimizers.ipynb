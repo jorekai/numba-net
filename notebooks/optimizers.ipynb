{
 "cells": [
  {
   "cell_type": "code",
   "execution_count": 50,
   "metadata": {
    "collapsed": true
   },
   "outputs": [],
   "source": [
    "import time\n",
    "\n",
    "import numpy as np\n",
    "from numba import guvectorize, float32, float64, prange\n",
    "\n",
    "def sgdpy():\n",
    "    lr=1e-4\n",
    "    mu=0.9\n",
    "    weight_decay=0\n",
    "    def aux_init(param):\n",
    "        return np.zeros_like(param)\n",
    "    def update_rule(x, dx, aux):\n",
    "        x = (1-weight_decay) * x\n",
    "        aux = mu * aux - lr * dx\n",
    "        x = np.add(x, aux)\n",
    "        return x, aux\n",
    "    return aux_init, update_rule\n",
    "\n",
    "def sgd(x, y, aux, lr, mu, decay, out, init):\n",
    "    init[:] = aux[:]\n",
    "    for i in prange(x.shape[0]):\n",
    "        out[i] = (1-decay) * x[i]\n",
    "        init[i] = mu * init[i] - lr * y[i]\n",
    "        out[i] = np.add(out[i], init[i])\n",
    "\n",
    "\n",
    "\n",
    "def gu_optimizer(func, *args, **kwargs):\n",
    "    \"\"\"\n",
    "    The guvectorize decorated method, runs in nopython mode\n",
    "    :param func: a loss error method\n",
    "    :param target: choose between | 1: None -> serial | 2: 'parallel' -> parallel | execution method\n",
    "    :return: the decorated loss, error function\n",
    "    \"\"\"\n",
    "    kwargs_ = {k: v for k, v in kwargs.items() if v is not None}\n",
    "    return guvectorize([(float32[:], float32[:], float32[:], float32, float32, float32, float32[:], float32[:]),\n",
    "                      (float64[:], float64[:], float64[:], float64, float64, float64, float64[:], float64[:])],\n",
    "                     '(n),(n),(m),(),(),()->(n),(n)', nopython=True, fastmath=True, *args, **kwargs_)(func)\n",
    "\n",
    "s_sgd = gu_optimizer(sgd)\n",
    "p_sgd = gu_optimizer(sgd, target='parallel')"
   ]
  },
  {
   "cell_type": "code",
   "execution_count": 51,
   "outputs": [],
   "source": [
    "bigx = np.arange(0, 10000000, dtype=np.float32)\n",
    "bigy = np.arange(10000000, 20000000, dtype=np.float32)\n",
    "init = np.zeros_like(bigx)\n",
    "\n",
    "def ntime(func1):\n",
    "    start = time.time()\n",
    "    func1(bigx, bigy, init, 1e-4, 0.9, 0.0)\n",
    "    end = time.time()\n",
    "    print(\"Elapsed Numba Pre = %s\" % (end - start))\n",
    "    start = time.time()\n",
    "    f2 = func1(bigx, bigy, init, 1e-4, 0.9, 0.0)\n",
    "    end = time.time()\n",
    "    print(\"Elapsed Numba Post = %s\" % (end - start))\n",
    "    return f2\n",
    "\n",
    "def ptime(func1):\n",
    "    start = time.time()\n",
    "    init, update = func1()\n",
    "    aux = init(bigx)\n",
    "    f1 = update(bigx, bigy, aux)\n",
    "    end = time.time()\n",
    "    print(\"Elapsed PyTime = %s\" % (end - start))\n",
    "    return f1"
   ],
   "metadata": {
    "collapsed": false,
    "pycharm": {
     "name": "#%%\n"
    }
   }
  },
  {
   "cell_type": "code",
   "execution_count": 52,
   "outputs": [
    {
     "name": "stdout",
     "output_type": "stream",
     "text": [
      "Elapsed Numba Pre = 0.030916690826416016\n",
      "Elapsed Numba Post = 0.026955366134643555\n",
      "Elapsed Numba Pre = 0.0298917293548584\n",
      "Elapsed Numba Post = 0.02892303466796875\n",
      "Elapsed PyTime = 0.05385589599609375\n",
      "(array([-1.0000000e+03, -9.9900006e+02, -9.9800018e+02, ...,\n",
      "        9.9979970e+06,  9.9979980e+06,  9.9979990e+06], dtype=float32), array([-1000.     , -1000.00006, -1000.0002 , ..., -1999.9995 ,\n",
      "       -1999.9998 , -2000.     ], dtype=float32))\n",
      "(array([-1.0000000e+03, -9.9900006e+02, -9.9800018e+02, ...,\n",
      "        9.9979970e+06,  9.9979980e+06,  9.9979990e+06], dtype=float32), array([-1000.     , -1000.00006, -1000.0002 , ..., -1999.9995 ,\n",
      "       -1999.9998 , -2000.     ], dtype=float32))\n"
     ]
    }
   ],
   "source": [
    "s = ntime(s_sgd)\n",
    "p = ntime(p_sgd)\n",
    "py = ptime(sgdpy)\n",
    "\n",
    "print(s)\n",
    "print(py)"
   ],
   "metadata": {
    "collapsed": false,
    "pycharm": {
     "name": "#%%\n"
    }
   }
  },
  {
   "cell_type": "code",
   "execution_count": 53,
   "outputs": [],
   "source": [
    "np.testing.assert_allclose(s, p)"
   ],
   "metadata": {
    "collapsed": false,
    "pycharm": {
     "name": "#%%\n"
    }
   }
  },
  {
   "cell_type": "code",
   "execution_count": 54,
   "outputs": [],
   "source": [
    "np.testing.assert_allclose(s, p)"
   ],
   "metadata": {
    "collapsed": false,
    "pycharm": {
     "name": "#%%\n"
    }
   }
  },
  {
   "cell_type": "code",
   "execution_count": 55,
   "outputs": [],
   "source": [
    "np.testing.assert_allclose(s, p)"
   ],
   "metadata": {
    "collapsed": false,
    "pycharm": {
     "name": "#%%\n"
    }
   }
  }
 ],
 "metadata": {
  "kernelspec": {
   "name": "pycharm-396cc10a",
   "language": "python",
   "display_name": "PyCharm (cytorch)"
  },
  "language_info": {
   "codemirror_mode": {
    "name": "ipython",
    "version": 2
   },
   "file_extension": ".py",
   "mimetype": "text/x-python",
   "name": "python",
   "nbconvert_exporter": "python",
   "pygments_lexer": "ipython2",
   "version": "2.7.6"
  }
 },
 "nbformat": 4,
 "nbformat_minor": 0
}